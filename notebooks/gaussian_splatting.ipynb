{
 "cells": [
  {
   "cell_type": "code",
   "execution_count": null,
   "metadata": {},
   "outputs": [],
   "source": [
    "import cv2\n",
    "import os\n",
    "import random\n",
    "import numpy as np\n",
    "import matplotlib.pyplot as plt\n",
    "from pathlib import Path\n",
    "\n",
    "from gaussian_splatting.colmap import parse_cameras, parse_images, parse_points3d, clean_text\n",
    "from gaussian_splatting.model import View, GaussianCloud, train\n",
    "from gaussian_splatting.model.util import create_rasterizer\n",
    "\n",
    "random.seed(42)"
   ]
  },
  {
   "cell_type": "code",
   "execution_count": null,
   "metadata": {},
   "outputs": [],
   "source": [
    "# dataset on which to train\n",
    "dataset = \"hotdog\""
   ]
  },
  {
   "cell_type": "code",
   "execution_count": null,
   "metadata": {},
   "outputs": [],
   "source": [
    "# parsing images colmap output\n",
    "base_path = Path(\"../data\") / dataset\n",
    "images = {\n",
    "    image_name: cv2.imread(str(base_path / f\"images/{image_name}\"))[:, :, ::-1] / 255\n",
    "    for image_name in os.listdir(base_path / f\"images\")\n",
    "}\n",
    "with open(base_path / \"cameras.txt\", \"r\")  as f:\n",
    "    cameras = parse_cameras(clean_text(f.readlines()))\n",
    "\n",
    "with open(base_path / \"points3D.txt\", \"r\")  as f:\n",
    "    points3d = parse_points3d(clean_text(f.readlines()))\n",
    "\n",
    "with open(base_path / \"images.txt\", \"r\")  as f:\n",
    "    images = parse_images(clean_text(f.readlines()), cameras, points3d, images)\n",
    "    "
   ]
  },
  {
   "cell_type": "code",
   "execution_count": null,
   "metadata": {},
   "outputs": [],
   "source": [
    "# creating views\n",
    "views = [View.from_image(image) for image in images.values()]\n",
    "views[:4]"
   ]
  },
  {
   "cell_type": "code",
   "execution_count": null,
   "metadata": {},
   "outputs": [],
   "source": [
    "# train/test splitting of views\n",
    "random.shuffle(views)\n",
    "train_split = 0.7\n",
    "dataset_size = len(views)\n",
    "train_dataset = views[:int(dataset_size*train_split)]\n",
    "test_dataset = views[int(dataset_size*train_split):]"
   ]
  },
  {
   "cell_type": "code",
   "execution_count": null,
   "metadata": {},
   "outputs": [],
   "source": [
    "# creating the gaussian cloud\n",
    "gaussian_cloud = GaussianCloud.from_point_cloud([*points3d.values()]).to(\"cuda\")\n",
    "gaussian_cloud"
   ]
  },
  {
   "cell_type": "code",
   "execution_count": null,
   "metadata": {},
   "outputs": [],
   "source": [
    "# function to easly compare the model output with ground truth\n",
    "def compare(view: View, gaussian_cloud: GaussianCloud):\n",
    "    gaussian_cloud.eval()\n",
    "    model = create_rasterizer(view)\n",
    "    _img, _ = model(**gaussian_cloud.parameters)\n",
    "    npimg = _img.cpu().detach().numpy().transpose([1, 2, 0])\n",
    "    orig_img = view.image\n",
    "    plt.imshow(np.hstack([npimg, orig_img]))\n",
    "    plt.show()\n"
   ]
  },
  {
   "cell_type": "code",
   "execution_count": null,
   "metadata": {},
   "outputs": [],
   "source": [
    "# comparing the results before training\n",
    "compare(test_dataset[1], gaussian_cloud)"
   ]
  },
  {
   "cell_type": "code",
   "execution_count": null,
   "metadata": {},
   "outputs": [],
   "source": [
    "# putting the parameters in train mode\n",
    "gaussian_cloud.train()\n",
    "\n",
    "# training the model\n",
    "train_losses, test_losses = train(gaussian_cloud, train_dataset, test_dataset, epochs=300)"
   ]
  },
  {
   "cell_type": "code",
   "execution_count": null,
   "metadata": {},
   "outputs": [],
   "source": [
    "# plotting the loss\n",
    "plt.plot(train_losses)\n",
    "plt.plot(test_losses)"
   ]
  },
  {
   "cell_type": "code",
   "execution_count": null,
   "metadata": {},
   "outputs": [],
   "source": [
    "# comparing the results after trainint\n",
    "compare(test_dataset[1], gaussian_cloud)"
   ]
  },
  {
   "cell_type": "code",
   "execution_count": null,
   "metadata": {},
   "outputs": [],
   "source": [
    "# saving the model for later use\n",
    "gaussian_cloud.save(f\"../models/{dataset}.pkl\")"
   ]
  }
 ],
 "metadata": {
  "kernelspec": {
   "display_name": "base",
   "language": "python",
   "name": "python3"
  },
  "language_info": {
   "codemirror_mode": {
    "name": "ipython",
    "version": 3
   },
   "file_extension": ".py",
   "mimetype": "text/x-python",
   "name": "python",
   "nbconvert_exporter": "python",
   "pygments_lexer": "ipython3",
   "version": "3.9.18"
  }
 },
 "nbformat": 4,
 "nbformat_minor": 2
}
