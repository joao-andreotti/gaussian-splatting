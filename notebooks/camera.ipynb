{
 "cells": [
  {
   "cell_type": "code",
   "execution_count": null,
   "metadata": {},
   "outputs": [],
   "source": [
    "from gaussian_splatting.colmap import parse_cameras, parse_images, parse_points3d, clean_text\n",
    "from gaussian_splatting.dataset import View, Cloud\n",
    "import diff_gaussian_rasterization as dg\n",
    "import numpy as np\n",
    "import torch\n",
    "import matplotlib.pyplot as plt\n",
    "import cv2"
   ]
  },
  {
   "cell_type": "code",
   "execution_count": null,
   "metadata": {},
   "outputs": [],
   "source": [
    "# parsing colmap output\n",
    "with open(\"../data/chair/cameras.txt\", \"r\")  as f:\n",
    "    cameras = parse_cameras(clean_text(f.readlines()))\n",
    "\n",
    "with open(\"../data/chair/points3D.txt\", \"r\")  as f:\n",
    "    points3d = parse_points3d(clean_text(f.readlines()))\n",
    "\n",
    "with open(\"../data/chair/images.txt\", \"r\")  as f:\n",
    "    images = parse_images(clean_text(f.readlines()), cameras, points3d)"
   ]
  },
  {
   "cell_type": "code",
   "execution_count": null,
   "metadata": {},
   "outputs": [],
   "source": [
    "# loading original images as nd arrays\n",
    "original_images = {}\n",
    "for image in images.values():\n",
    "    im = cv2.imread(f\"../data/chair/images/{image.name}\")[:, :, ::-1] / 256\n",
    "    original_images[image.idx] = im"
   ]
  },
  {
   "cell_type": "code",
   "execution_count": null,
   "metadata": {},
   "outputs": [],
   "source": [
    "cloud = Cloud(points3d.values())\n",
    "cloud"
   ]
  },
  {
   "cell_type": "code",
   "execution_count": null,
   "metadata": {},
   "outputs": [],
   "source": [
    "# creating some views\n",
    "views = [View(image) for image in images.values()]\n",
    "views[:4]"
   ]
  },
  {
   "cell_type": "code",
   "execution_count": null,
   "metadata": {},
   "outputs": [],
   "source": [
    "# gaussian model from view\n",
    "def create_model(view: View):\n",
    "    configuration = dg.GaussianRasterizationSettings(\n",
    "        image_height=view.height,\n",
    "        image_width=view.width,\n",
    "        tanfovx=np.tan(view.fovx/2),\n",
    "        tanfovy=np.tan(view.fovy/2),\n",
    "        bg=torch.tensor([1, 0, 0.1], dtype=torch.float, device=\"cuda\"),\n",
    "        scale_modifier=1.,\n",
    "        viewmatrix=torch.tensor(view.viewmatrix(False).T, dtype=torch.float, device=\"cuda\"),\n",
    "        projmatrix=torch.tensor(view.viewmatrix(False).T @ view.projmatrix().T, dtype=torch.float, device=\"cuda\"),\n",
    "        sh_degree=0,\n",
    "        campos=torch.tensor(view.position, dtype=torch.float, device=\"cuda\"),\n",
    "        prefiltered=False,\n",
    "        debug=False\n",
    "    )\n",
    "    return dg.GaussianRasterizer(configuration)\n",
    "\n",
    "models: list[tuple[dg.GaussianRasterizer, View]] = [(create_model(view), view) for view in views]"
   ]
  },
  {
   "cell_type": "code",
   "execution_count": null,
   "metadata": {},
   "outputs": [],
   "source": [
    "# create parameters from point cloud\n",
    "number_points = len(cloud.points)\n",
    "data = dict(\n",
    "    means3D=torch.tensor(cloud.points_positions(), dtype=torch.float, device=\"cuda\", requires_grad=True),\n",
    "    means2D=torch.zeros((number_points, 3), dtype=torch.float, device=\"cuda\", requires_grad=True),\n",
    "    shs=torch.tensor(cloud.points_colors(), dtype=torch.float, device=\"cuda\", requires_grad=True),\n",
    "    opacities=torch.ones([number_points, 1], dtype=torch.float, device=\"cuda\", requires_grad=True),\n",
    "    scales=torch.tensor([[.01, .01, .01]] * number_points, dtype=torch.float, device=\"cuda\", requires_grad=True),\n",
    "    rotations=torch.tensor([[1, 0, 0, 0]] * number_points, dtype=torch.float, device=\"cuda\", requires_grad=True),\n",
    ")"
   ]
  },
  {
   "cell_type": "code",
   "execution_count": null,
   "metadata": {},
   "outputs": [],
   "source": [
    "def compare(model, view):\n",
    "    _img, _ = model(**data)\n",
    "    npimg = _img.cpu().detach().numpy().transpose([1, 2, 0])\n",
    "    orig_img = original_images[view.image.idx]\n",
    "    plt.imshow(np.hstack([npimg, orig_img]))\n",
    "    plt.show()"
   ]
  },
  {
   "cell_type": "code",
   "execution_count": null,
   "metadata": {},
   "outputs": [],
   "source": [
    "for model in models: compare(*model)"
   ]
  },
  {
   "cell_type": "code",
   "execution_count": null,
   "metadata": {},
   "outputs": [],
   "source": []
  },
  {
   "cell_type": "code",
   "execution_count": null,
   "metadata": {},
   "outputs": [],
   "source": []
  },
  {
   "cell_type": "code",
   "execution_count": null,
   "metadata": {},
   "outputs": [],
   "source": []
  }
 ],
 "metadata": {
  "kernelspec": {
   "display_name": "base",
   "language": "python",
   "name": "python3"
  },
  "language_info": {
   "codemirror_mode": {
    "name": "ipython",
    "version": 3
   },
   "file_extension": ".py",
   "mimetype": "text/x-python",
   "name": "python",
   "nbconvert_exporter": "python",
   "pygments_lexer": "ipython3",
   "version": "3.9.18"
  }
 },
 "nbformat": 4,
 "nbformat_minor": 2
}
