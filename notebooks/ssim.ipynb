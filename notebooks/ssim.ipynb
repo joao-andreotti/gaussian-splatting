{
 "cells": [
  {
   "cell_type": "markdown",
   "metadata": {},
   "source": [
    "# DSSIM\n",
    "Validating the DSSIM loss on gradient descent task"
   ]
  },
  {
   "cell_type": "code",
   "execution_count": null,
   "metadata": {},
   "outputs": [],
   "source": [
    "import cv2\n",
    "import os\n",
    "import random\n",
    "import matplotlib.pyplot as plt\n",
    "from pathlib import Path\n",
    "import torch\n",
    "\n",
    "from gaussian_splatting.model import View\n",
    "from gaussian_splatting.colmap import parse_cameras, parse_images, parse_points3d, clean_text\n",
    "from gaussian_splatting.model.loss import DSSIM, L1\n",
    "\n",
    "random.seed(42)"
   ]
  },
  {
   "cell_type": "code",
   "execution_count": null,
   "metadata": {},
   "outputs": [],
   "source": [
    "dataset = \"cat\""
   ]
  },
  {
   "cell_type": "code",
   "execution_count": null,
   "metadata": {},
   "outputs": [],
   "source": [
    "# parsing images colmap output\n",
    "base_path = Path(\"../data\") / dataset\n",
    "images = {\n",
    "    image_name: cv2.imread(str(base_path / f\"images/{image_name}\"))[:, :, ::-1] / 255\n",
    "    for image_name in os.listdir(base_path / f\"images\")\n",
    "}\n",
    "with open(base_path / \"cameras.txt\", \"r\")  as f:\n",
    "    cameras = parse_cameras(clean_text(f.readlines()))\n",
    "\n",
    "with open(base_path / \"points3D.txt\", \"r\")  as f:\n",
    "    points3d = parse_points3d(clean_text(f.readlines()))\n",
    "\n",
    "with open(base_path / \"images.txt\", \"r\")  as f:\n",
    "    images = parse_images(clean_text(f.readlines()), cameras, points3d, images)\n",
    "    "
   ]
  },
  {
   "cell_type": "code",
   "execution_count": null,
   "metadata": {},
   "outputs": [],
   "source": [
    "views = [View.from_image(image) for image in images.values()]"
   ]
  },
  {
   "cell_type": "code",
   "execution_count": null,
   "metadata": {},
   "outputs": [],
   "source": [
    "# putting images in the gpu\n",
    "images = [\n",
    "    torch.tensor(view.image, dtype=torch.float, device=\"cuda\").permute(2, 0, 1)\n",
    "    for view in views\n",
    "]\n"
   ]
  },
  {
   "cell_type": "code",
   "execution_count": null,
   "metadata": {},
   "outputs": [],
   "source": [
    "# validating my ssim loss...\n",
    "image = images[0].clone()\n",
    "approx = torch.rand_like(image, dtype=torch.float, device=\"cuda\", requires_grad=True)\n",
    "\n",
    "plt.imshow(image.clone().cpu().detach().numpy().transpose([1, 2, 0]))\n",
    "plt.show()\n",
    "\n",
    "plt.imshow(approx.clone().cpu().detach().numpy().transpose([1, 2, 0]))\n",
    "plt.show()\n",
    "\n",
    "_lambda = 1\n",
    "criterion = lambda img1, img2: (1 - _lambda) * L1(img1, img2) + _lambda * DSSIM(img1, img2)\n",
    "optimizer = torch.optim.Adam([approx], 0.01)\n",
    "for epoch in range(100):\n",
    "    optimizer.zero_grad()\n",
    "    loss = criterion(image, approx)\n",
    "    loss.backward()\n",
    "    optimizer.step()\n",
    "    if epoch%10 == 0:\n",
    "        print(f\"epoch {epoch}, loss: {loss}\")\n",
    "\n",
    "plt.imshow(approx.clone().cpu().detach().numpy().transpose([1, 2, 0]))\n",
    "plt.show()\n"
   ]
  },
  {
   "cell_type": "code",
   "execution_count": null,
   "metadata": {},
   "outputs": [],
   "source": []
  }
 ],
 "metadata": {
  "kernelspec": {
   "display_name": "base",
   "language": "python",
   "name": "python3"
  },
  "language_info": {
   "codemirror_mode": {
    "name": "ipython",
    "version": 3
   },
   "file_extension": ".py",
   "mimetype": "text/x-python",
   "name": "python",
   "nbconvert_exporter": "python",
   "pygments_lexer": "ipython3",
   "version": "3.9.18"
  }
 },
 "nbformat": 4,
 "nbformat_minor": 2
}
